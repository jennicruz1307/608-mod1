{
 "cells": [
  {
   "cell_type": "code",
   "execution_count": 1,
   "id": "2e2cbf50-3fed-4219-a55e-c2e1091fc2e5",
   "metadata": {},
   "outputs": [
    {
     "data": {
      "text/plain": [
       "2"
      ]
     },
     "execution_count": 1,
     "metadata": {},
     "output_type": "execute_result"
    }
   ],
   "source": [
    "min(2, 5, 8)"
   ]
  },
  {
   "cell_type": "code",
   "execution_count": 2,
   "id": "eb7f8760-5153-49ba-a570-ddfb5d437033",
   "metadata": {},
   "outputs": [
    {
     "data": {
      "text/plain": [
       "8"
      ]
     },
     "execution_count": 2,
     "metadata": {},
     "output_type": "execute_result"
    }
   ],
   "source": [
    "max(2, 5, 8)"
   ]
  },
  {
   "cell_type": "code",
   "execution_count": 3,
   "id": "d42c8cb2-734a-4930-b0a3-0e4a99455879",
   "metadata": {},
   "outputs": [
    {
     "data": {
      "text/plain": [
       "15"
      ]
     },
     "execution_count": 3,
     "metadata": {},
     "output_type": "execute_result"
    }
   ],
   "source": [
    "sum([2, 5, 8])"
   ]
  },
  {
   "cell_type": "code",
   "execution_count": 10,
   "id": "a2aaa75d-08ba-4799-938f-6e98339ed36b",
   "metadata": {},
   "outputs": [
    {
     "name": "stdout",
     "output_type": "stream",
     "text": [
      "Range: 2 - 8\n"
     ]
    }
   ],
   "source": [
    "print('Range:', min(2, 5, 8), '-',\n",
    "      max(2, 5, 8))"
   ]
  },
  {
   "cell_type": "code",
   "execution_count": 14,
   "id": "ab589f91-537f-4457-b6ca-411c4b5a5e97",
   "metadata": {},
   "outputs": [
    {
     "data": {
      "text/plain": [
       "3"
      ]
     },
     "execution_count": 14,
     "metadata": {},
     "output_type": "execute_result"
    }
   ],
   "source": [
    "numbers = (2, 5, 8)\n",
    "len(numbers)"
   ]
  },
  {
   "cell_type": "code",
   "execution_count": 16,
   "id": "0b6a967c-51ba-442d-8688-035db76347bb",
   "metadata": {},
   "outputs": [
    {
     "data": {
      "text/plain": [
       "5.0"
      ]
     },
     "execution_count": 16,
     "metadata": {},
     "output_type": "execute_result"
    }
   ],
   "source": [
    "numbers = (2, 5, 8)\n",
    "sum([2, 5, 8]) / len(numbers)"
   ]
  },
  {
   "cell_type": "code",
   "execution_count": 18,
   "id": "0cfdc8aa-8e25-4661-814a-b4a170d53f39",
   "metadata": {},
   "outputs": [
    {
     "name": "stdout",
     "output_type": "stream",
     "text": [
      "Jennifer Cruz\n"
     ]
    }
   ],
   "source": [
    "print ('Jennifer Cruz')"
   ]
  }
 ],
 "metadata": {
  "kernelspec": {
   "display_name": "Python 3 (ipykernel)",
   "language": "python",
   "name": "python3"
  },
  "language_info": {
   "codemirror_mode": {
    "name": "ipython",
    "version": 3
   },
   "file_extension": ".py",
   "mimetype": "text/x-python",
   "name": "python",
   "nbconvert_exporter": "python",
   "pygments_lexer": "ipython3",
   "version": "3.9.12"
  }
 },
 "nbformat": 4,
 "nbformat_minor": 5
}
